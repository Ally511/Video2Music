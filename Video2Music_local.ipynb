{
  "cells": [
    {
      "cell_type": "markdown",
      "metadata": {
        "id": "vj1sOiXpAIBO"
      },
      "source": [
        "## Welcome to Video2Music!\n",
        "\n",
        "This notebook is designed to be run on CPU. Before executing it, you need to set up an environment and install some things, to do that just follow the guide in the Readme.\n",
        "The demo is based on the code by [Kang et al. (2024)](https://github.com/AMAAI-Lab/Video2Music/tree/main).\n",
        "\n",
        "In the first part of this notebook, you can use a video for which you would like to generate matching music. As the encoding of the video is very resource-intense, in the second part you can play around with the audio generation part, trying to modify the output by setting the emotion and semantic setting by yourself."
      ]
    },
    {
      "cell_type": "markdown",
      "metadata": {
        "id": "G02zK_0KGKvb"
      },
      "source": [
        "## Getting started with Video-audio generation\n",
        "\n",
        "### Video2Music model\n",
        "Quick reminder here, how the inference works:\n",
        "\n",
        "\n",
        "*  **Feature Extraction:** the chord primer sequence is encoded as well as the different video features, namely\n",
        "    * semantic and emotion via CLIP\n",
        "    * scene offset via PySceneDetect\n",
        "    * motion via RGB difference\n",
        "\n",
        "*   **ATM encoder**: the video features are passed through the Affective Multimodal Transformer encoder using Multihead Attention\n",
        "* **ATM decoder**: combines music and ATM encoded Video features, using Cross-Attention; each new chord is conditioned on the previously generated chord\n",
        "* **Post-Processing**: a Bi-GRU gets the video features as input and determines from it the density and loudness of the chord sequence\n",
        "\n",
        "\n",
        "\n",
        "\n"
      ]
    },
    {
      "cell_type": "markdown",
      "metadata": {
        "id": "pRVAXPp0GUEq"
      },
      "source": [
        "Now, we can run the inference. Depending on the length of your video, this may take a while, up to 1 hour or, depending on your available resources, might crash in between. In that case, I would advice you to use the colab notebook provided in the gitlab. Otherwise, use the time to make a cup of coffee which you can enjoy when listening to the wonderful music you get out of it! You can also try it with different chord sequences as primers. For that purpose, you have the chord-emotion table here again as a reference, also to know what different chords are possible.\n",
        "\n",
        "![Screenshot 2025-06-26 200311.png](data:image/png;base64,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)"
      ]
    },
    {
      "cell_type": "code",
      "execution_count": null,
      "metadata": {
        "colab": {
          "base_uri": "https://localhost:8080/"
        },
        "id": "_lXpewtX88tj",
        "outputId": "216771fc-e082-461e-d43a-416cec2b1fa3"
      },
      "outputs": [
        {
          "name": "stdout",
          "output_type": "stream",
          "text": [
            "Overwriting inference_script.py\n"
          ]
        }
      ],
      "source": [
        "from video2music import Video2music\n",
        "\n",
        "\n",
        "input_video = \"bird.mp4\" #adjust this path if you want to use your own video\n",
        "\n",
        "# modify that to your liking, check the table for different options\n",
        "# but be aware - a major chord is NOT C maj, but just C; a minor chord is defined as Cm\n",
        "# the rest you can just use as indicated in the table:)\n",
        "input_primer = \"C Am Gsus2 Gm\"\n",
        "\n",
        "# C major or A minor\n",
        "input_key = \"C major\"\n",
        "\n",
        "video2music = Video2music()\n",
        "\n",
        "#generate the music video\n",
        "output_filename = video2music.generate(input_video, input_primer, input_key)"
      ]
    },
    {
      "cell_type": "markdown",
      "metadata": {
        "id": "Bg43eeoqGkYT"
      },
      "source": [
        "This cell executes the script!"
      ]
    },
    {
      "cell_type": "markdown",
      "metadata": {
        "id": "-BKUN_8Pc5ct"
      },
      "source": [
        "### Audio Generation without Video Input\n",
        "\n",
        "Since generating the music video can take a lot of time, I wrote a function to only generate the audio while being able to manipulate the emotion and semantics feature. So, you get the opportunity to choose by yourself which emotions you want to convey. You can play around with the different tensors ands see, what an imact it has on the generated audio."
      ]
    },
    {
      "cell_type": "markdown",
      "metadata": {
        "id": "dqCWc6o3c5cv"
      },
      "source": [
        "This is the script for the audio generation, again, you can execute via the cell below."
      ]
    },
    {
      "cell_type": "code",
      "execution_count": null,
      "metadata": {
        "colab": {
          "base_uri": "https://localhost:8080/"
        },
        "id": "MH0JGgg7uC1Y",
        "outputId": "01bbfed9-068d-4424-834c-270dd60bbd2c"
      },
      "outputs": [
        {
          "name": "stdout",
          "output_type": "stream",
          "text": [
            "Overwriting audio_script.py\n"
          ]
        }
      ],
      "source": [
        "from video2music import Video2music\n",
        "import torch\n",
        "\n",
        "seed=42\n",
        "torch.manual_seed(seed=seed)\n",
        "# this is the semantic embedding vector, you can also try different versions by adjusting the Seed\n",
        "semantic = torch.randn(300, 768)\n",
        "\n",
        "# 0: exciting, 1: fearful, 2: tense, 3: sad, 4: relaxing, 5: neutral\n",
        "emotion_tensor = torch.zeros(300, 6)\n",
        "\n",
        "# like this, the whole video would be very relaxing, for different emotions, change the index\n",
        "emotion_tensor[:, 4] = 1.0  # should range between 0.0 and 1.0, defines the intensity of the emotion\n",
        "\n",
        "# adjust this to you liking (again check the table above for the different options)\n",
        "primer = \"Cmaj7 Gm7 Amdim7 Fhdim7\" # you might also try what happens if the emotion tensor defined above contradicts the emotions conveyed by the chords:)\n",
        "\n",
        "# C major or A minor\n",
        "key = \"A minor\"\n",
        "\n",
        "\n",
        "video2music = Video2music()\n",
        "# generate the audio\n",
        "output_filename = video2music.audio_generate(emotion_tensor, semantic, primer, key)"
      ]
    }
  ],
  "metadata": {
    "accelerator": "GPU",
    "colab": {
      "gpuType": "T4",
      "provenance": []
    },
    "kernelspec": {
      "display_name": "Python 3",
      "name": "python3"
    },
    "language_info": {
      "name": "python"
    }
  },
  "nbformat": 4,
  "nbformat_minor": 0
}
